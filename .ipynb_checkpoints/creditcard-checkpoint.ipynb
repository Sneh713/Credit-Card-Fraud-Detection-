{
 "cells": [
  {
   "cell_type": "code",
   "execution_count": null,
   "metadata": {
    "id": "wXXbaTFpkqzZ"
   },
   "outputs": [],
   "source": [
    "import pandas as pd \n",
    "import numpy as np\n"
   ]
  },
  {
   "cell_type": "code",
   "execution_count": null,
   "metadata": {
    "id": "01wyI4hPkFkT"
   },
   "outputs": [],
   "source": [
    "data=pd.read_csv(\"C:\\Users\\Dell\\Desktop\\oss-lab\\project\\creditcard.csv\")"
   ]
  },
  {
   "cell_type": "code",
   "execution_count": null,
   "metadata": {
    "colab": {
     "base_uri": "https://localhost:8080/",
     "height": 226
    },
    "id": "xJF54l2EkpMQ",
    "outputId": "cff4558c-8e27-42ab-eb6a-dd0cadfdf736"
   },
   "outputs": [
    {
     "data": {
      "text/html": [
       "<div>\n",
       "<style scoped>\n",
       "    .dataframe tbody tr th:only-of-type {\n",
       "        vertical-align: middle;\n",
       "    }\n",
       "\n",
       "    .dataframe tbody tr th {\n",
       "        vertical-align: top;\n",
       "    }\n",
       "\n",
       "    .dataframe thead th {\n",
       "        text-align: right;\n",
       "    }\n",
       "</style>\n",
       "<table border=\"1\" class=\"dataframe\">\n",
       "  <thead>\n",
       "    <tr style=\"text-align: right;\">\n",
       "      <th></th>\n",
       "      <th>Time</th>\n",
       "      <th>V1</th>\n",
       "      <th>V2</th>\n",
       "      <th>V3</th>\n",
       "      <th>V4</th>\n",
       "      <th>V5</th>\n",
       "      <th>V6</th>\n",
       "      <th>V7</th>\n",
       "      <th>V8</th>\n",
       "      <th>V9</th>\n",
       "      <th>V10</th>\n",
       "      <th>V11</th>\n",
       "      <th>V12</th>\n",
       "      <th>V13</th>\n",
       "      <th>V14</th>\n",
       "      <th>V15</th>\n",
       "      <th>V16</th>\n",
       "      <th>V17</th>\n",
       "      <th>V18</th>\n",
       "      <th>V19</th>\n",
       "      <th>V20</th>\n",
       "      <th>V21</th>\n",
       "      <th>V22</th>\n",
       "      <th>V23</th>\n",
       "      <th>V24</th>\n",
       "      <th>V25</th>\n",
       "      <th>V26</th>\n",
       "      <th>V27</th>\n",
       "      <th>V28</th>\n",
       "      <th>Amount</th>\n",
       "      <th>Class</th>\n",
       "    </tr>\n",
       "  </thead>\n",
       "  <tbody>\n",
       "    <tr>\n",
       "      <th>0</th>\n",
       "      <td>0</td>\n",
       "      <td>-1.359807</td>\n",
       "      <td>-0.072781</td>\n",
       "      <td>2.536347</td>\n",
       "      <td>1.378155</td>\n",
       "      <td>-0.338321</td>\n",
       "      <td>0.462388</td>\n",
       "      <td>0.239599</td>\n",
       "      <td>0.098698</td>\n",
       "      <td>0.363787</td>\n",
       "      <td>0.090794</td>\n",
       "      <td>-0.551600</td>\n",
       "      <td>-0.617801</td>\n",
       "      <td>-0.991390</td>\n",
       "      <td>-0.311169</td>\n",
       "      <td>1.468177</td>\n",
       "      <td>-0.470401</td>\n",
       "      <td>0.207971</td>\n",
       "      <td>0.025791</td>\n",
       "      <td>0.403993</td>\n",
       "      <td>0.251412</td>\n",
       "      <td>-0.018307</td>\n",
       "      <td>0.277838</td>\n",
       "      <td>-0.110474</td>\n",
       "      <td>0.066928</td>\n",
       "      <td>0.128539</td>\n",
       "      <td>-0.189115</td>\n",
       "      <td>0.133558</td>\n",
       "      <td>-0.021053</td>\n",
       "      <td>149.62</td>\n",
       "      <td>0.0</td>\n",
       "    </tr>\n",
       "    <tr>\n",
       "      <th>1</th>\n",
       "      <td>0</td>\n",
       "      <td>1.191857</td>\n",
       "      <td>0.266151</td>\n",
       "      <td>0.166480</td>\n",
       "      <td>0.448154</td>\n",
       "      <td>0.060018</td>\n",
       "      <td>-0.082361</td>\n",
       "      <td>-0.078803</td>\n",
       "      <td>0.085102</td>\n",
       "      <td>-0.255425</td>\n",
       "      <td>-0.166974</td>\n",
       "      <td>1.612727</td>\n",
       "      <td>1.065235</td>\n",
       "      <td>0.489095</td>\n",
       "      <td>-0.143772</td>\n",
       "      <td>0.635558</td>\n",
       "      <td>0.463917</td>\n",
       "      <td>-0.114805</td>\n",
       "      <td>-0.183361</td>\n",
       "      <td>-0.145783</td>\n",
       "      <td>-0.069083</td>\n",
       "      <td>-0.225775</td>\n",
       "      <td>-0.638672</td>\n",
       "      <td>0.101288</td>\n",
       "      <td>-0.339846</td>\n",
       "      <td>0.167170</td>\n",
       "      <td>0.125895</td>\n",
       "      <td>-0.008983</td>\n",
       "      <td>0.014724</td>\n",
       "      <td>2.69</td>\n",
       "      <td>0.0</td>\n",
       "    </tr>\n",
       "    <tr>\n",
       "      <th>2</th>\n",
       "      <td>1</td>\n",
       "      <td>-1.358354</td>\n",
       "      <td>-1.340163</td>\n",
       "      <td>1.773209</td>\n",
       "      <td>0.379780</td>\n",
       "      <td>-0.503198</td>\n",
       "      <td>1.800499</td>\n",
       "      <td>0.791461</td>\n",
       "      <td>0.247676</td>\n",
       "      <td>-1.514654</td>\n",
       "      <td>0.207643</td>\n",
       "      <td>0.624501</td>\n",
       "      <td>0.066084</td>\n",
       "      <td>0.717293</td>\n",
       "      <td>-0.165946</td>\n",
       "      <td>2.345865</td>\n",
       "      <td>-2.890083</td>\n",
       "      <td>1.109969</td>\n",
       "      <td>-0.121359</td>\n",
       "      <td>-2.261857</td>\n",
       "      <td>0.524980</td>\n",
       "      <td>0.247998</td>\n",
       "      <td>0.771679</td>\n",
       "      <td>0.909412</td>\n",
       "      <td>-0.689281</td>\n",
       "      <td>-0.327642</td>\n",
       "      <td>-0.139097</td>\n",
       "      <td>-0.055353</td>\n",
       "      <td>-0.059752</td>\n",
       "      <td>378.66</td>\n",
       "      <td>0.0</td>\n",
       "    </tr>\n",
       "    <tr>\n",
       "      <th>3</th>\n",
       "      <td>1</td>\n",
       "      <td>-0.966272</td>\n",
       "      <td>-0.185226</td>\n",
       "      <td>1.792993</td>\n",
       "      <td>-0.863291</td>\n",
       "      <td>-0.010309</td>\n",
       "      <td>1.247203</td>\n",
       "      <td>0.237609</td>\n",
       "      <td>0.377436</td>\n",
       "      <td>-1.387024</td>\n",
       "      <td>-0.054952</td>\n",
       "      <td>-0.226487</td>\n",
       "      <td>0.178228</td>\n",
       "      <td>0.507757</td>\n",
       "      <td>-0.287924</td>\n",
       "      <td>-0.631418</td>\n",
       "      <td>-1.059647</td>\n",
       "      <td>-0.684093</td>\n",
       "      <td>1.965775</td>\n",
       "      <td>-1.232622</td>\n",
       "      <td>-0.208038</td>\n",
       "      <td>-0.108300</td>\n",
       "      <td>0.005274</td>\n",
       "      <td>-0.190321</td>\n",
       "      <td>-1.175575</td>\n",
       "      <td>0.647376</td>\n",
       "      <td>-0.221929</td>\n",
       "      <td>0.062723</td>\n",
       "      <td>0.061458</td>\n",
       "      <td>123.50</td>\n",
       "      <td>0.0</td>\n",
       "    </tr>\n",
       "    <tr>\n",
       "      <th>4</th>\n",
       "      <td>2</td>\n",
       "      <td>-1.158233</td>\n",
       "      <td>0.877737</td>\n",
       "      <td>1.548718</td>\n",
       "      <td>0.403034</td>\n",
       "      <td>-0.407193</td>\n",
       "      <td>0.095921</td>\n",
       "      <td>0.592941</td>\n",
       "      <td>-0.270533</td>\n",
       "      <td>0.817739</td>\n",
       "      <td>0.753074</td>\n",
       "      <td>-0.822843</td>\n",
       "      <td>0.538196</td>\n",
       "      <td>1.345852</td>\n",
       "      <td>-1.119670</td>\n",
       "      <td>0.175121</td>\n",
       "      <td>-0.451449</td>\n",
       "      <td>-0.237033</td>\n",
       "      <td>-0.038195</td>\n",
       "      <td>0.803487</td>\n",
       "      <td>0.408542</td>\n",
       "      <td>-0.009431</td>\n",
       "      <td>0.798278</td>\n",
       "      <td>-0.137458</td>\n",
       "      <td>0.141267</td>\n",
       "      <td>-0.206010</td>\n",
       "      <td>0.502292</td>\n",
       "      <td>0.219422</td>\n",
       "      <td>0.215153</td>\n",
       "      <td>69.99</td>\n",
       "      <td>0.0</td>\n",
       "    </tr>\n",
       "  </tbody>\n",
       "</table>\n",
       "</div>"
      ],
      "text/plain": [
       "   Time        V1        V2        V3  ...       V27       V28  Amount  Class\n",
       "0     0 -1.359807 -0.072781  2.536347  ...  0.133558 -0.021053  149.62    0.0\n",
       "1     0  1.191857  0.266151  0.166480  ... -0.008983  0.014724    2.69    0.0\n",
       "2     1 -1.358354 -1.340163  1.773209  ... -0.055353 -0.059752  378.66    0.0\n",
       "3     1 -0.966272 -0.185226  1.792993  ...  0.062723  0.061458  123.50    0.0\n",
       "4     2 -1.158233  0.877737  1.548718  ...  0.219422  0.215153   69.99    0.0\n",
       "\n",
       "[5 rows x 31 columns]"
      ]
     },
     "execution_count": 13,
     "metadata": {},
     "output_type": "execute_result"
    }
   ],
   "source": [
    "data.head()"
   ]
  },
  {
   "cell_type": "code",
   "execution_count": null,
   "metadata": {
    "colab": {
     "base_uri": "https://localhost:8080/"
    },
    "id": "dOyorjcNkmd5",
    "outputId": "14cb742d-6510-402c-829f-2b078b8fc31a"
   },
   "outputs": [
    {
     "name": "stdout",
     "output_type": "stream",
     "text": [
      "Index(['Time', 'V1', 'V2', 'V3', 'V4', 'V5', 'V6', 'V7', 'V8', 'V9', 'V10',\n",
      "       'V11', 'V12', 'V13', 'V14', 'V15', 'V16', 'V17', 'V18', 'V19', 'V20',\n",
      "       'V21', 'V22', 'V23', 'V24', 'V25', 'V26', 'V27', 'V28', 'Amount',\n",
      "       'Class'],\n",
      "      dtype='object')\n"
     ]
    }
   ],
   "source": [
    "print(data.columns)"
   ]
  },
  {
   "cell_type": "code",
   "execution_count": null,
   "metadata": {
    "id": "zp3h60tPk5yc"
   },
   "outputs": [],
   "source": [
    "df=data.copy(deep=True)"
   ]
  },
  {
   "cell_type": "code",
   "execution_count": null,
   "metadata": {
    "colab": {
     "base_uri": "https://localhost:8080/",
     "height": 328
    },
    "id": "G2GZsKa-YqUS",
    "outputId": "f63ba400-c891-4f99-d420-fc3fc7ba31d0"
   },
   "outputs": [
    {
     "ename": "MessageError",
     "evalue": "ignored",
     "output_type": "error",
     "traceback": [
      "\u001b[0;31m---------------------------------------------------------------------------\u001b[0m",
      "\u001b[0;31mMessageError\u001b[0m                              Traceback (most recent call last)",
      "\u001b[0;32m<ipython-input-16-d5df0069828e>\u001b[0m in \u001b[0;36m<module>\u001b[0;34m()\u001b[0m\n\u001b[1;32m      1\u001b[0m \u001b[0;32mfrom\u001b[0m \u001b[0mgoogle\u001b[0m\u001b[0;34m.\u001b[0m\u001b[0mcolab\u001b[0m \u001b[0;32mimport\u001b[0m \u001b[0mdrive\u001b[0m\u001b[0;34m\u001b[0m\u001b[0;34m\u001b[0m\u001b[0m\n\u001b[0;32m----> 2\u001b[0;31m \u001b[0mdrive\u001b[0m\u001b[0;34m.\u001b[0m\u001b[0mmount\u001b[0m\u001b[0;34m(\u001b[0m\u001b[0;34m'/content/drive'\u001b[0m\u001b[0;34m)\u001b[0m\u001b[0;34m\u001b[0m\u001b[0;34m\u001b[0m\u001b[0m\n\u001b[0m",
      "\u001b[0;32m/usr/local/lib/python3.7/dist-packages/google/colab/drive.py\u001b[0m in \u001b[0;36mmount\u001b[0;34m(mountpoint, force_remount, timeout_ms, use_metadata_server)\u001b[0m\n\u001b[1;32m    111\u001b[0m       \u001b[0mtimeout_ms\u001b[0m\u001b[0;34m=\u001b[0m\u001b[0mtimeout_ms\u001b[0m\u001b[0;34m,\u001b[0m\u001b[0;34m\u001b[0m\u001b[0;34m\u001b[0m\u001b[0m\n\u001b[1;32m    112\u001b[0m       \u001b[0muse_metadata_server\u001b[0m\u001b[0;34m=\u001b[0m\u001b[0muse_metadata_server\u001b[0m\u001b[0;34m,\u001b[0m\u001b[0;34m\u001b[0m\u001b[0;34m\u001b[0m\u001b[0m\n\u001b[0;32m--> 113\u001b[0;31m       ephemeral=ephemeral)\n\u001b[0m\u001b[1;32m    114\u001b[0m \u001b[0;34m\u001b[0m\u001b[0m\n\u001b[1;32m    115\u001b[0m \u001b[0;34m\u001b[0m\u001b[0m\n",
      "\u001b[0;32m/usr/local/lib/python3.7/dist-packages/google/colab/drive.py\u001b[0m in \u001b[0;36m_mount\u001b[0;34m(mountpoint, force_remount, timeout_ms, use_metadata_server, ephemeral)\u001b[0m\n\u001b[1;32m    134\u001b[0m   \u001b[0;32mif\u001b[0m \u001b[0mephemeral\u001b[0m\u001b[0;34m:\u001b[0m\u001b[0;34m\u001b[0m\u001b[0;34m\u001b[0m\u001b[0m\n\u001b[1;32m    135\u001b[0m     _message.blocking_request(\n\u001b[0;32m--> 136\u001b[0;31m         'request_auth', request={'authType': 'dfs_ephemeral'}, timeout_sec=None)\n\u001b[0m\u001b[1;32m    137\u001b[0m \u001b[0;34m\u001b[0m\u001b[0m\n\u001b[1;32m    138\u001b[0m   \u001b[0mmountpoint\u001b[0m \u001b[0;34m=\u001b[0m \u001b[0m_os\u001b[0m\u001b[0;34m.\u001b[0m\u001b[0mpath\u001b[0m\u001b[0;34m.\u001b[0m\u001b[0mexpanduser\u001b[0m\u001b[0;34m(\u001b[0m\u001b[0mmountpoint\u001b[0m\u001b[0;34m)\u001b[0m\u001b[0;34m\u001b[0m\u001b[0;34m\u001b[0m\u001b[0m\n",
      "\u001b[0;32m/usr/local/lib/python3.7/dist-packages/google/colab/_message.py\u001b[0m in \u001b[0;36mblocking_request\u001b[0;34m(request_type, request, timeout_sec, parent)\u001b[0m\n\u001b[1;32m    173\u001b[0m   request_id = send_request(\n\u001b[1;32m    174\u001b[0m       request_type, request, parent=parent, expect_reply=True)\n\u001b[0;32m--> 175\u001b[0;31m   \u001b[0;32mreturn\u001b[0m \u001b[0mread_reply_from_input\u001b[0m\u001b[0;34m(\u001b[0m\u001b[0mrequest_id\u001b[0m\u001b[0;34m,\u001b[0m \u001b[0mtimeout_sec\u001b[0m\u001b[0;34m)\u001b[0m\u001b[0;34m\u001b[0m\u001b[0;34m\u001b[0m\u001b[0m\n\u001b[0m",
      "\u001b[0;32m/usr/local/lib/python3.7/dist-packages/google/colab/_message.py\u001b[0m in \u001b[0;36mread_reply_from_input\u001b[0;34m(message_id, timeout_sec)\u001b[0m\n\u001b[1;32m    104\u001b[0m         reply.get('colab_msg_id') == message_id):\n\u001b[1;32m    105\u001b[0m       \u001b[0;32mif\u001b[0m \u001b[0;34m'error'\u001b[0m \u001b[0;32min\u001b[0m \u001b[0mreply\u001b[0m\u001b[0;34m:\u001b[0m\u001b[0;34m\u001b[0m\u001b[0;34m\u001b[0m\u001b[0m\n\u001b[0;32m--> 106\u001b[0;31m         \u001b[0;32mraise\u001b[0m \u001b[0mMessageError\u001b[0m\u001b[0;34m(\u001b[0m\u001b[0mreply\u001b[0m\u001b[0;34m[\u001b[0m\u001b[0;34m'error'\u001b[0m\u001b[0;34m]\u001b[0m\u001b[0;34m)\u001b[0m\u001b[0;34m\u001b[0m\u001b[0;34m\u001b[0m\u001b[0m\n\u001b[0m\u001b[1;32m    107\u001b[0m       \u001b[0;32mreturn\u001b[0m \u001b[0mreply\u001b[0m\u001b[0;34m.\u001b[0m\u001b[0mget\u001b[0m\u001b[0;34m(\u001b[0m\u001b[0;34m'data'\u001b[0m\u001b[0;34m,\u001b[0m \u001b[0;32mNone\u001b[0m\u001b[0;34m)\u001b[0m\u001b[0;34m\u001b[0m\u001b[0;34m\u001b[0m\u001b[0m\n\u001b[1;32m    108\u001b[0m \u001b[0;34m\u001b[0m\u001b[0m\n",
      "\u001b[0;31mMessageError\u001b[0m: Error: credential propagation was unsuccessful"
     ]
    }
   ],
   "source": []
  },
  {
   "cell_type": "code",
   "execution_count": null,
   "metadata": {
    "colab": {
     "base_uri": "https://localhost:8080/"
    },
    "id": "rIL9OR7ZlDIS",
    "outputId": "09a26dc8-172b-4781-9b42-504e107c0b06"
   },
   "outputs": [
    {
     "data": {
      "text/plain": [
       "(3973, 31)"
      ]
     },
     "execution_count": 17,
     "metadata": {},
     "output_type": "execute_result"
    }
   ],
   "source": [
    "df.shape"
   ]
  },
  {
   "cell_type": "code",
   "execution_count": null,
   "metadata": {
    "colab": {
     "base_uri": "https://localhost:8080/"
    },
    "id": "X3VvwkiIlMWT",
    "outputId": "dcc478be-d598-4013-a507-5bed24709b07"
   },
   "outputs": [
    {
     "data": {
      "text/plain": [
       "(3973, 31)"
      ]
     },
     "execution_count": 18,
     "metadata": {},
     "output_type": "execute_result"
    }
   ],
   "source": [
    "data.shape"
   ]
  },
  {
   "cell_type": "code",
   "execution_count": null,
   "metadata": {
    "id": "UIKCREjolJBn"
   },
   "outputs": [],
   "source": [
    "import matplotlib.pyplot as plt\n",
    "import seaborn as sns\n",
    "from sklearn.preprocessing import RobustScaler"
   ]
  },
  {
   "cell_type": "code",
   "execution_count": null,
   "metadata": {
    "colab": {
     "base_uri": "https://localhost:8080/"
    },
    "id": "8JJ-VS70lWIl",
    "outputId": "7b3c51e6-bd1a-44c9-b4c0-2e0a67db0277"
   },
   "outputs": [
    {
     "data": {
      "text/plain": [
       "array([ 0.,  1., nan])"
      ]
     },
     "execution_count": 20,
     "metadata": {},
     "output_type": "execute_result"
    }
   ],
   "source": [
    "np.unique(df[\"Class\"])"
   ]
  },
  {
   "cell_type": "code",
   "execution_count": null,
   "metadata": {
    "colab": {
     "base_uri": "https://localhost:8080/",
     "height": 351
    },
    "id": "3rCvM3wjlY_E",
    "outputId": "9d643973-880e-49e2-87e4-6f499949b818"
   },
   "outputs": [
    {
     "name": "stderr",
     "output_type": "stream",
     "text": [
      "/usr/local/lib/python3.7/dist-packages/seaborn/_decorators.py:43: FutureWarning: Pass the following variable as a keyword arg: x. From version 0.12, the only valid positional argument will be `data`, and passing other arguments without an explicit keyword will result in an error or misinterpretation.\n",
      "  FutureWarning\n"
     ]
    },
    {
     "data": {
      "text/plain": [
       "<matplotlib.axes._subplots.AxesSubplot at 0x7f70f1e34050>"
      ]
     },
     "execution_count": 21,
     "metadata": {},
     "output_type": "execute_result"
    },
    {
     "data": {
      "image/png": "[encoded data removed]",
      "text/plain": [
       "<Figure size 432x288 with 1 Axes>"
      ]
     },
     "metadata": {
      "needs_background": "light"
     },
     "output_type": "display_data"
    }
   ],
   "source": [
    "sns.countplot(df['Class'])"
   ]
  },
  {
   "cell_type": "code",
   "execution_count": null,
   "metadata": {
    "colab": {
     "base_uri": "https://localhost:8080/"
    },
    "id": "CZuMs8xvlb6U",
    "outputId": "09734b59-ab59-4de5-a262-d478f3e9dd58"
   },
   "outputs": [
    {
     "data": {
      "text/plain": [
       "0.0    3970\n",
       "1.0       2\n",
       "Name: Class, dtype: int64"
      ]
     },
     "execution_count": 22,
     "metadata": {},
     "output_type": "execute_result"
    }
   ],
   "source": [
    "df['Class'].value_counts() "
   ]
  },
  {
   "cell_type": "code",
   "execution_count": null,
   "metadata": {
    "id": "N5IcV41oleX_"
   },
   "outputs": [],
   "source": [
    "rb = RobustScaler()\n",
    "df_scaled = rb.fit_transform(df)"
   ]
  },
  {
   "cell_type": "code",
   "execution_count": null,
   "metadata": {
    "id": "01oI6qBElh0A"
   },
   "outputs": [],
   "source": [
    "df_scaled = pd.DataFrame(data= df_scaled,columns= ['Time', 'V1', 'V2', 'V3', 'V4', 'V5', 'V6', 'V7', 'V8', 'V9', 'V10',\n",
    "       'V11', 'V12', 'V13', 'V14', 'V15', 'V16', 'V17', 'V18', 'V19', 'V20',\n",
    "       'V21', 'V22', 'V23', 'V24', 'V25', 'V26', 'V27', 'V28', 'Amount',\n",
    "       'Class'])"
   ]
  },
  {
   "cell_type": "code",
   "execution_count": null,
   "metadata": {
    "colab": {
     "base_uri": "https://localhost:8080/",
     "height": 226
    },
    "id": "fhX_XJ18lkPl",
    "outputId": "ad01ed8f-6c18-45f4-da4a-ca494c135c26"
   },
   "outputs": [
    {
     "data": {
      "text/html": [
       "<div>\n",
       "<style scoped>\n",
       "    .dataframe tbody tr th:only-of-type {\n",
       "        vertical-align: middle;\n",
       "    }\n",
       "\n",
       "    .dataframe tbody tr th {\n",
       "        vertical-align: top;\n",
       "    }\n",
       "\n",
       "    .dataframe thead th {\n",
       "        text-align: right;\n",
       "    }\n",
       "</style>\n",
       "<table border=\"1\" class=\"dataframe\">\n",
       "  <thead>\n",
       "    <tr style=\"text-align: right;\">\n",
       "      <th></th>\n",
       "      <th>Time</th>\n",
       "      <th>V1</th>\n",
       "      <th>V2</th>\n",
       "      <th>V3</th>\n",
       "      <th>V4</th>\n",
       "      <th>V5</th>\n",
       "      <th>V6</th>\n",
       "      <th>V7</th>\n",
       "      <th>V8</th>\n",
       "      <th>V9</th>\n",
       "      <th>V10</th>\n",
       "      <th>V11</th>\n",
       "      <th>V12</th>\n",
       "      <th>V13</th>\n",
       "      <th>V14</th>\n",
       "      <th>V15</th>\n",
       "      <th>V16</th>\n",
       "      <th>V17</th>\n",
       "      <th>V18</th>\n",
       "      <th>V19</th>\n",
       "      <th>V20</th>\n",
       "      <th>V21</th>\n",
       "      <th>V22</th>\n",
       "      <th>V23</th>\n",
       "      <th>V24</th>\n",
       "      <th>V25</th>\n",
       "      <th>V26</th>\n",
       "      <th>V27</th>\n",
       "      <th>V28</th>\n",
       "      <th>Amount</th>\n",
       "      <th>Class</th>\n",
       "    </tr>\n",
       "  </thead>\n",
       "  <tbody>\n",
       "    <tr>\n",
       "      <th>0</th>\n",
       "      <td>-0.859234</td>\n",
       "      <td>-0.432104</td>\n",
       "      <td>-0.447797</td>\n",
       "      <td>1.440611</td>\n",
       "      <td>0.676117</td>\n",
       "      <td>-0.256088</td>\n",
       "      <td>0.567014</td>\n",
       "      <td>0.084709</td>\n",
       "      <td>0.138923</td>\n",
       "      <td>0.302300</td>\n",
       "      <td>0.275946</td>\n",
       "      <td>-0.362336</td>\n",
       "      <td>-1.060139</td>\n",
       "      <td>-0.695429</td>\n",
       "      <td>-0.461036</td>\n",
       "      <td>0.896535</td>\n",
       "      <td>-0.368393</td>\n",
       "      <td>0.475697</td>\n",
       "      <td>0.153178</td>\n",
       "      <td>0.398568</td>\n",
       "      <td>0.818367</td>\n",
       "      <td>0.111115</td>\n",
       "      <td>0.399021</td>\n",
       "      <td>-0.148414</td>\n",
       "      <td>-0.043682</td>\n",
       "      <td>0.040382</td>\n",
       "      <td>-0.260131</td>\n",
       "      <td>0.403756</td>\n",
       "      <td>-0.391679</td>\n",
       "      <td>2.591370</td>\n",
       "      <td>0.0</td>\n",
       "    </tr>\n",
       "    <tr>\n",
       "      <th>1</th>\n",
       "      <td>-0.859234</td>\n",
       "      <td>0.782212</td>\n",
       "      <td>-0.133191</td>\n",
       "      <td>-0.626205</td>\n",
       "      <td>0.184360</td>\n",
       "      <td>0.154394</td>\n",
       "      <td>0.107347</td>\n",
       "      <td>-0.263746</td>\n",
       "      <td>0.111963</td>\n",
       "      <td>-0.262367</td>\n",
       "      <td>-0.030711</td>\n",
       "      <td>1.019509</td>\n",
       "      <td>0.873577</td>\n",
       "      <td>0.486814</td>\n",
       "      <td>-0.223752</td>\n",
       "      <td>0.206104</td>\n",
       "      <td>0.526723</td>\n",
       "      <td>0.064329</td>\n",
       "      <td>-0.102978</td>\n",
       "      <td>-0.183447</td>\n",
       "      <td>-0.261548</td>\n",
       "      <td>-0.548916</td>\n",
       "      <td>-0.669446</td>\n",
       "      <td>0.626939</td>\n",
       "      <td>-0.570843</td>\n",
       "      <td>0.117153</td>\n",
       "      <td>0.241153</td>\n",
       "      <td>-0.172876</td>\n",
       "      <td>-0.060534</td>\n",
       "      <td>-0.195353</td>\n",
       "      <td>0.0</td>\n",
       "    </tr>\n",
       "    <tr>\n",
       "      <th>2</th>\n",
       "      <td>-0.858671</td>\n",
       "      <td>-0.431413</td>\n",
       "      <td>-1.624216</td>\n",
       "      <td>0.775061</td>\n",
       "      <td>0.148205</td>\n",
       "      <td>-0.425992</td>\n",
       "      <td>1.696133</td>\n",
       "      <td>0.688661</td>\n",
       "      <td>0.434341</td>\n",
       "      <td>-1.410673</td>\n",
       "      <td>0.414957</td>\n",
       "      <td>0.388562</td>\n",
       "      <td>-0.274394</td>\n",
       "      <td>0.669042</td>\n",
       "      <td>-0.255183</td>\n",
       "      <td>1.624338</td>\n",
       "      <td>-2.686551</td>\n",
       "      <td>1.625268</td>\n",
       "      <td>-0.027042</td>\n",
       "      <td>-2.423609</td>\n",
       "      <td>1.740159</td>\n",
       "      <td>0.958325</td>\n",
       "      <td>0.974742</td>\n",
       "      <td>3.585834</td>\n",
       "      <td>-1.023694</td>\n",
       "      <td>-0.866179</td>\n",
       "      <td>-0.180535</td>\n",
       "      <td>-0.360458</td>\n",
       "      <td>-0.749867</td>\n",
       "      <td>6.935420</td>\n",
       "      <td>0.0</td>\n",
       "    </tr>\n",
       "    <tr>\n",
       "      <th>3</th>\n",
       "      <td>-0.858671</td>\n",
       "      <td>-0.244824</td>\n",
       "      <td>-0.552172</td>\n",
       "      <td>0.792315</td>\n",
       "      <td>-0.509094</td>\n",
       "      <td>0.081924</td>\n",
       "      <td>1.229253</td>\n",
       "      <td>0.082531</td>\n",
       "      <td>0.691651</td>\n",
       "      <td>-1.294285</td>\n",
       "      <td>0.102558</td>\n",
       "      <td>-0.154764</td>\n",
       "      <td>-0.145546</td>\n",
       "      <td>0.501717</td>\n",
       "      <td>-0.428085</td>\n",
       "      <td>-0.844509</td>\n",
       "      <td>-0.932916</td>\n",
       "      <td>-0.661213</td>\n",
       "      <td>2.529148</td>\n",
       "      <td>-1.334019</td>\n",
       "      <td>-0.729758</td>\n",
       "      <td>-0.175187</td>\n",
       "      <td>0.081266</td>\n",
       "      <td>-0.440768</td>\n",
       "      <td>-1.653910</td>\n",
       "      <td>1.071457</td>\n",
       "      <td>-0.312349</td>\n",
       "      <td>0.117201</td>\n",
       "      <td>0.372021</td>\n",
       "      <td>2.095970</td>\n",
       "      <td>0.0</td>\n",
       "    </tr>\n",
       "    <tr>\n",
       "      <th>4</th>\n",
       "      <td>-0.858108</td>\n",
       "      <td>-0.336177</td>\n",
       "      <td>0.434500</td>\n",
       "      <td>0.579277</td>\n",
       "      <td>0.160501</td>\n",
       "      <td>-0.327061</td>\n",
       "      <td>0.257784</td>\n",
       "      <td>0.471403</td>\n",
       "      <td>-0.593248</td>\n",
       "      <td>0.716265</td>\n",
       "      <td>1.063835</td>\n",
       "      <td>-0.535515</td>\n",
       "      <td>0.268037</td>\n",
       "      <td>1.170978</td>\n",
       "      <td>-1.607079</td>\n",
       "      <td>-0.175704</td>\n",
       "      <td>-0.350236</td>\n",
       "      <td>-0.091448</td>\n",
       "      <td>0.074813</td>\n",
       "      <td>0.821489</td>\n",
       "      <td>1.347821</td>\n",
       "      <td>0.139353</td>\n",
       "      <td>1.005752</td>\n",
       "      <td>-0.247215</td>\n",
       "      <td>0.052658</td>\n",
       "      <td>-0.624462</td>\n",
       "      <td>0.840126</td>\n",
       "      <td>0.751106</td>\n",
       "      <td>1.794592</td>\n",
       "      <td>1.081081</td>\n",
       "      <td>0.0</td>\n",
       "    </tr>\n",
       "  </tbody>\n",
       "</table>\n",
       "</div>"
      ],
      "text/plain": [
       "       Time        V1        V2        V3  ...       V27       V28    Amount  Class\n",
       "0 -0.859234 -0.432104 -0.447797  1.440611  ...  0.403756 -0.391679  2.591370    0.0\n",
       "1 -0.859234  0.782212 -0.133191 -0.626205  ... -0.172876 -0.060534 -0.195353    0.0\n",
       "2 -0.858671 -0.431413 -1.624216  0.775061  ... -0.360458 -0.749867  6.935420    0.0\n",
       "3 -0.858671 -0.244824 -0.552172  0.792315  ...  0.117201  0.372021  2.095970    0.0\n",
       "4 -0.858108 -0.336177  0.434500  0.579277  ...  0.751106  1.794592  1.081081    0.0\n",
       "\n",
       "[5 rows x 31 columns]"
      ]
     },
     "execution_count": 25,
     "metadata": {},
     "output_type": "execute_result"
    }
   ],
   "source": [
    "df_scaled.head()\n"
   ]
  },
  {
   "cell_type": "code",
   "execution_count": null,
   "metadata": {
    "id": "_KtdHEFnlqSa"
   },
   "outputs": [],
   "source": [
    "X =df_scaled.iloc[:,:30]   \n",
    "y = df_scaled['Class']"
   ]
  },
  {
   "cell_type": "code",
   "execution_count": null,
   "metadata": {
    "id": "_ZTX-Ea5aYcX"
   },
   "outputs": [],
   "source": [
    "import tensorflow as tf\n",
    "import keras\n",
    "from tensorflow.keras.layers import Dense,Activation,BatchNormalization,Dropout,Input,Multiply,Concatenate,Add,Conv1D\n",
    "from tensorflow.keras.models import Sequential,Model\n",
    "tf.random.set_seed(143)"
   ]
  },
  {
   "cell_type": "code",
   "execution_count": null,
   "metadata": {
    "id": "HmgrsL7Nlxsm"
   },
   "outputs": [],
   "source": [
    "from sklearn.model_selection import train_test_split"
   ]
  },
  {
   "cell_type": "code",
   "execution_count": null,
   "metadata": {
    "id": "hS3RF3G2l1g_"
   },
   "outputs": [],
   "source": [
    "X_train,X_test,y_train,y_test = train_test_split(X, y, test_size=0.2, random_state=55)"
   ]
  },
  {
   "cell_type": "code",
   "execution_count": null,
   "metadata": {
    "id": "9YZ1xMxql6V_"
   },
   "outputs": [],
   "source": [
    "def create_model():\n",
    "    x_input = Input(shape=(X_train.shape[1],))\n",
    "\n",
    "    x1 = Dense(100,activation='relu' )(x_input)\n",
    "    x2 = Dense(128, activation='relu')(x1)\n",
    "    x3 = Dense(256,activation='relu' )(x2)\n",
    "    z2 = Dense(100,activation='relu')(x3)\n",
    "    z31 = BatchNormalization()(z2) \n",
    "    z31 = Dropout(0.3)(z31)\n",
    "\n",
    "    \n",
    "    x4 =  Dense(128,activation='relu')(z31)\n",
    "    x5 =  Dense(64,activation='relu')(x4)\n",
    "    z32 = BatchNormalization()(x5)\n",
    "    z32 = Dropout(0.3)(z32)\n",
    "\n",
    "    x6 =  Dense(32,activation='relu')(z32)\n",
    "    \n",
    "    x_output = Dense(units=1,activation='sigmoid')(x6)\n",
    "    model = Model(inputs=x_input, outputs=x_output,name='Model')\n",
    "    return model\n",
    "\n"
   ]
  },
  {
   "cell_type": "code",
   "execution_count": null,
   "metadata": {
    "id": "RKCTGBTll--M"
   },
   "outputs": [],
   "source": [
    "model = create_model()"
   ]
  },
  {
   "cell_type": "code",
   "execution_count": null,
   "metadata": {
    "id": "ia0Z6EvboT3K"
   },
   "outputs": [],
   "source": []
  },
  {
   "cell_type": "code",
   "execution_count": null,
   "metadata": {
    "colab": {
     "base_uri": "https://localhost:8080/"
    },
    "id": "ItJh1qo6mhip",
    "outputId": "6718fafe-3af1-4052-b279-a38affd19c73"
   },
   "outputs": [
    {
     "name": "stdout",
     "output_type": "stream",
     "text": [
      "Epoch 1/35\n",
      "32/32 [==============================] - 3s 30ms/step - loss: 3.5389e-05 - accuracy: 1.0000 - val_loss: nan - val_accuracy: 0.9975\n",
      "Epoch 2/35\n",
      "32/32 [==============================] - 0s 14ms/step - loss: 8.0407e-06 - accuracy: 1.0000 - val_loss: nan - val_accuracy: 0.9975\n",
      "Epoch 3/35\n",
      "32/32 [==============================] - 0s 12ms/step - loss: 2.4866e-06 - accuracy: 1.0000 - val_loss: nan - val_accuracy: 0.9975\n",
      "Epoch 4/35\n",
      "32/32 [==============================] - 0s 15ms/step - loss: 4.7977e-06 - accuracy: 1.0000 - val_loss: nan - val_accuracy: 0.9975\n",
      "Epoch 5/35\n",
      "32/32 [==============================] - 1s 16ms/step - loss: 1.4876e-05 - accuracy: 1.0000 - val_loss: nan - val_accuracy: 0.9975\n",
      "Epoch 6/35\n",
      "32/32 [==============================] - 1s 17ms/step - loss: 0.0047 - accuracy: 0.9997 - val_loss: nan - val_accuracy: 0.9975\n",
      "Epoch 7/35\n",
      "32/32 [==============================] - 0s 12ms/step - loss: 0.0044 - accuracy: 0.9997 - val_loss: nan - val_accuracy: 0.9975\n",
      "Epoch 8/35\n",
      "32/32 [==============================] - 0s 15ms/step - loss: 0.0059 - accuracy: 0.9997 - val_loss: nan - val_accuracy: 0.9975\n",
      "Epoch 9/35\n",
      "32/32 [==============================] - 0s 15ms/step - loss: 0.0047 - accuracy: 0.9997 - val_loss: nan - val_accuracy: 0.9975\n",
      "Epoch 10/35\n",
      "32/32 [==============================] - 0s 13ms/step - loss: 0.0040 - accuracy: 0.9997 - val_loss: nan - val_accuracy: 0.9975\n",
      "Epoch 11/35\n",
      "32/32 [==============================] - 0s 15ms/step - loss: 0.0019 - accuracy: 0.9994 - val_loss: nan - val_accuracy: 0.9975\n",
      "Epoch 12/35\n",
      "32/32 [==============================] - 0s 14ms/step - loss: 2.1956e-04 - accuracy: 1.0000 - val_loss: nan - val_accuracy: 0.9950\n",
      "Epoch 13/35\n",
      "32/32 [==============================] - 0s 15ms/step - loss: 0.0056 - accuracy: 0.9997 - val_loss: nan - val_accuracy: 0.9975\n",
      "Epoch 14/35\n",
      "32/32 [==============================] - 0s 15ms/step - loss: 0.0017 - accuracy: 0.9997 - val_loss: nan - val_accuracy: 0.9975\n",
      "Epoch 15/35\n",
      "32/32 [==============================] - 0s 15ms/step - loss: 7.1426e-04 - accuracy: 0.9997 - val_loss: nan - val_accuracy: 0.9975\n",
      "Epoch 16/35\n",
      "32/32 [==============================] - 0s 14ms/step - loss: 0.0017 - accuracy: 0.9997 - val_loss: nan - val_accuracy: 0.9975\n",
      "Epoch 17/35\n",
      "32/32 [==============================] - 0s 8ms/step - loss: 3.4458e-04 - accuracy: 1.0000 - val_loss: nan - val_accuracy: 0.9975\n",
      "Epoch 18/35\n",
      "32/32 [==============================] - 0s 9ms/step - loss: 5.0521e-04 - accuracy: 0.9997 - val_loss: nan - val_accuracy: 0.9975\n",
      "Epoch 19/35\n",
      "32/32 [==============================] - 0s 8ms/step - loss: 6.0091e-04 - accuracy: 0.9997 - val_loss: nan - val_accuracy: 0.9975\n",
      "Epoch 20/35\n",
      "32/32 [==============================] - 0s 7ms/step - loss: 2.8390e-04 - accuracy: 1.0000 - val_loss: nan - val_accuracy: 0.9975\n",
      "Epoch 21/35\n",
      "32/32 [==============================] - 0s 8ms/step - loss: 3.4599e-04 - accuracy: 0.9997 - val_loss: nan - val_accuracy: 0.9975\n",
      "Epoch 22/35\n",
      "32/32 [==============================] - 0s 8ms/step - loss: 0.0035 - accuracy: 0.9994 - val_loss: nan - val_accuracy: 0.9975\n",
      "Epoch 23/35\n",
      "32/32 [==============================] - 0s 8ms/step - loss: 0.0029 - accuracy: 0.9997 - val_loss: nan - val_accuracy: 0.9975\n",
      "Epoch 24/35\n",
      "32/32 [==============================] - 0s 7ms/step - loss: 0.0042 - accuracy: 0.9994 - val_loss: nan - val_accuracy: 0.9975\n",
      "Epoch 25/35\n",
      "32/32 [==============================] - 0s 8ms/step - loss: 0.0021 - accuracy: 0.9997 - val_loss: nan - val_accuracy: 0.9975\n",
      "Epoch 26/35\n",
      "32/32 [==============================] - 0s 8ms/step - loss: 0.0016 - accuracy: 0.9997 - val_loss: nan - val_accuracy: 0.9975\n",
      "Epoch 27/35\n",
      "32/32 [==============================] - 0s 8ms/step - loss: 0.0013 - accuracy: 0.9994 - val_loss: nan - val_accuracy: 0.9975\n",
      "Epoch 28/35\n",
      "32/32 [==============================] - 0s 7ms/step - loss: 0.0015 - accuracy: 0.9997 - val_loss: nan - val_accuracy: 0.9975\n",
      "Epoch 29/35\n",
      "32/32 [==============================] - 0s 7ms/step - loss: 0.0015 - accuracy: 0.9997 - val_loss: nan - val_accuracy: 0.9975\n",
      "Epoch 30/35\n",
      "32/32 [==============================] - 0s 8ms/step - loss: 2.6691e-04 - accuracy: 1.0000 - val_loss: nan - val_accuracy: 0.9975\n",
      "Epoch 31/35\n",
      "32/32 [==============================] - 0s 8ms/step - loss: 2.3926e-04 - accuracy: 1.0000 - val_loss: nan - val_accuracy: 0.9975\n",
      "Epoch 32/35\n",
      "32/32 [==============================] - 0s 7ms/step - loss: 0.0016 - accuracy: 0.9997 - val_loss: nan - val_accuracy: 0.9962\n",
      "Epoch 33/35\n",
      "32/32 [==============================] - 0s 8ms/step - loss: 0.0014 - accuracy: 0.9994 - val_loss: nan - val_accuracy: 0.9975\n",
      "Epoch 34/35\n",
      "32/32 [==============================] - 0s 7ms/step - loss: 0.0024 - accuracy: 0.9997 - val_loss: nan - val_accuracy: 0.9975\n",
      "Epoch 35/35\n",
      "32/32 [==============================] - 0s 7ms/step - loss: 0.0023 - accuracy: 0.9997 - val_loss: nan - val_accuracy: 0.9975\n"
     ]
    },
    {
     "data": {
      "text/plain": [
       "<keras.callbacks.History at 0x7f70821eb310>"
      ]
     },
     "execution_count": 51,
     "metadata": {},
     "output_type": "execute_result"
    }
   ],
   "source": [
    "model.compile(optimizer='adam',loss='binary_crossentropy', metrics=['accuracy']) \n",
    "model.fit(X_train,y_train, batch_size =100 , epochs=35, validation_data= (X_test,y_test))"
   ]
  },
  {
   "cell_type": "code",
   "execution_count": null,
   "metadata": {
    "id": "phLUGSvdmyYD"
   },
   "outputs": [],
   "source": [
    "filename=open(\"expense_model.pkl\", 'wb')"
   ]
  },
  {
   "cell_type": "code",
   "execution_count": null,
   "metadata": {
    "id": "VVUqgwDSpgCr"
   },
   "outputs": [],
   "source": [
    "import pickle"
   ]
  },
  {
   "cell_type": "code",
   "execution_count": null,
   "metadata": {
    "colab": {
     "base_uri": "https://localhost:8080/"
    },
    "id": "J-oY3mpJn-ct",
    "outputId": "6a81340d-ff6b-4f65-e70a-7cc77af8e12e"
   },
   "outputs": [
    {
     "name": "stdout",
     "output_type": "stream",
     "text": [
      "INFO:tensorflow:Assets written to: ram://20f31433-580b-4d37-b7d5-ec23368143a4/assets\n"
     ]
    }
   ],
   "source": [
    "pickle. dump(model,filename)"
   ]
  },
  {
   "cell_type": "code",
   "execution_count": null,
   "metadata": {
    "id": "PN8dvyoAoByM"
   },
   "outputs": [],
   "source": [
    "from flask import Flask, render_template, url_for, request\n",
    "import pandas as pd, numpy as np\n",
    "import pickle\n",
    "\n",
    "\n",
    "app = Flask(__name__)\n",
    "\n",
    "@app.route('/')\n",
    "def home():\n",
    "\treturn render_template('main.html')\n",
    "\n",
    "@app.route('/predict', methods = ['POST'])\n",
    "def predict():\n",
    "\tif request.method == 'POST':\n",
    "\t\tme = request.form['message']\n",
    "\t\tmessage = [float(x) for x in me.split()]\n",
    "\t\tvect = np.array(message).reshape(1, -1)\n",
    "\t\tmy_prediction = clf.predict(vect)\n",
    "\treturn render_template('result.html',prediction = my_prediction)\n",
    "\n",
    "\n",
    "#if __name__ == '__main__':\n",
    "\t#app.run(debug=True)"
   ]
  },
  {
   "cell_type": "code",
   "execution_count": null,
   "metadata": {
    "id": "pLDJ5ypryT3c"
   },
   "outputs": [],
   "source": []
  }
 ],
 "metadata": {
  "colab": {
   "collapsed_sections": [],
   "name": "creditcard.ipynb",
   "provenance": []
  },
  "kernelspec": {
   "display_name": "Python 3",
   "language": "python",
   "name": "python3"
  },
  "language_info": {
   "codemirror_mode": {
    "name": "ipython",
    "version": 3
   },
   "file_extension": ".py",
   "mimetype": "text/x-python",
   "name": "python",
   "nbconvert_exporter": "python",
   "pygments_lexer": "ipython3",
   "version": "3.8.8"
  }
 },
 "nbformat": 4,
 "nbformat_minor": 1
}
